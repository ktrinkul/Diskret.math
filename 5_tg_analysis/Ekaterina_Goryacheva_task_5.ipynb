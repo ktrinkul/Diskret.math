{
 "cells": [
  {
   "cell_type": "code",
   "execution_count": null,
   "id": "2c4ef7b9-94c5-40b3-a3c1-36aa4df504cf",
   "metadata": {},
   "outputs": [],
   "source": [
    "%pip install telethon"
   ]
  },
  {
   "cell_type": "markdown",
   "id": "c199b5fe-4fbb-423a-b3ea-3d8997f2634c",
   "metadata": {},
   "source": [
    "Подключение к телеграмму"
   ]
  },
  {
   "cell_type": "code",
   "execution_count": 8,
   "id": "8400d54c-dfcb-48e4-8faa-969e2972e6cf",
   "metadata": {},
   "outputs": [],
   "source": [
    "api_id = 27676141\n",
    "api_hash = '9b207f09f9abd902b61a63f57dff96c5'"
   ]
  },
  {
   "cell_type": "code",
   "execution_count": null,
   "id": "bd630e58-1e43-4f98-bd52-8e5d2e5b0dc0",
   "metadata": {},
   "outputs": [],
   "source": [
    "from telethon import TelegramClient\n",
    "client = TelegramClient(None, api_id, api_hash, system_version=\"4.16.30-vxCUSTOM\")\n",
    "await client.start()\n",
    "client.session.save()"
   ]
  },
  {
   "cell_type": "markdown",
   "id": "2d1b7387-7965-4f0e-8632-75f6bc07ba1d",
   "metadata": {},
   "source": [
    "Получение id чата и канала для задания"
   ]
  },
  {
   "cell_type": "code",
   "execution_count": null,
   "id": "31020b78-163e-485e-98a8-a085b4761e00",
   "metadata": {
    "scrolled": true
   },
   "outputs": [],
   "source": [
    "async for dialog in client.iter_dialogs():\n",
    "    if dialog.is_group:\n",
    "        print(dialog.id, dialog.name)"
   ]
  },
  {
   "cell_type": "markdown",
   "id": "d7136251-5841-4766-93b8-7d22f2ca59cb",
   "metadata": {},
   "source": [
    "<h3>Часть 1: Анализ пользователей группы в тг"
   ]
  },
  {
   "cell_type": "markdown",
   "id": "5e29542d-211b-4ebe-89a5-1646598f6df7",
   "metadata": {},
   "source": [
    "ссылка на чат = 'https://t.me/commentfemale'"
   ]
  },
  {
   "cell_type": "markdown",
   "id": "969c25cc-1adc-4ef7-aeac-618689716487",
   "metadata": {},
   "source": [
    "Получение списка участников группы "
   ]
  },
  {
   "cell_type": "code",
   "execution_count": null,
   "id": "d8319e5b-c268-4eb6-a2cd-3c21582ca44b",
   "metadata": {},
   "outputs": [],
   "source": [
    "%pip install pandas"
   ]
  },
  {
   "cell_type": "code",
   "execution_count": 66,
   "id": "a2c0944b-314b-4cda-884f-05655f19bb4a",
   "metadata": {},
   "outputs": [],
   "source": [
    "from telethon.tl.functions.users import GetFullUserRequest\n",
    "import pandas as pd\n",
    "\n",
    "group_id = -1001439962922\n",
    "group_link = 'https://t.me/commentfemale'\n",
    "\n",
    "users = await client.get_participants(group_link)\n",
    "users_df = []\n",
    "\n",
    "for user in users:\n",
    "    users_df.append({'id': user.id, 'name': user.first_name, 'phone': user.phone, \n",
    "                       'premium': user.premium, 'photo': user.photo})\n",
    "\n",
    "users_df = pd.DataFrame(users_df)"
   ]
  },
  {
   "cell_type": "code",
   "execution_count": 47,
   "id": "2822a8cc-5136-4b31-8921-5d324f536024",
   "metadata": {},
   "outputs": [
    {
     "data": {
      "text/html": [
       "<div>\n",
       "<style scoped>\n",
       "    .dataframe tbody tr th:only-of-type {\n",
       "        vertical-align: middle;\n",
       "    }\n",
       "\n",
       "    .dataframe tbody tr th {\n",
       "        vertical-align: top;\n",
       "    }\n",
       "\n",
       "    .dataframe thead th {\n",
       "        text-align: right;\n",
       "    }\n",
       "</style>\n",
       "<table border=\"1\" class=\"dataframe\">\n",
       "  <thead>\n",
       "    <tr style=\"text-align: right;\">\n",
       "      <th></th>\n",
       "      <th>id</th>\n",
       "      <th>name</th>\n",
       "      <th>phone</th>\n",
       "      <th>premium</th>\n",
       "      <th>photo</th>\n",
       "    </tr>\n",
       "  </thead>\n",
       "  <tbody>\n",
       "    <tr>\n",
       "      <th>0</th>\n",
       "      <td>688528781</td>\n",
       "      <td>Катерина</td>\n",
       "      <td>79252239400</td>\n",
       "      <td>False</td>\n",
       "      <td>UserProfilePhoto(photo_id=2957208597205985236,...</td>\n",
       "    </tr>\n",
       "    <tr>\n",
       "      <th>1</th>\n",
       "      <td>1642150577</td>\n",
       "      <td>Сантьяго</td>\n",
       "      <td>None</td>\n",
       "      <td>False</td>\n",
       "      <td>UserProfilePhoto(photo_id=5449852357031614386,...</td>\n",
       "    </tr>\n",
       "    <tr>\n",
       "      <th>2</th>\n",
       "      <td>6210010999</td>\n",
       "      <td>马里奥</td>\n",
       "      <td>None</td>\n",
       "      <td>False</td>\n",
       "      <td>UserProfilePhoto(photo_id=5201667384069444542,...</td>\n",
       "    </tr>\n",
       "    <tr>\n",
       "      <th>3</th>\n",
       "      <td>1307295264</td>\n",
       "      <td>Владимир</td>\n",
       "      <td>None</td>\n",
       "      <td>True</td>\n",
       "      <td>UserProfilePhoto(photo_id=5204164018493838337,...</td>\n",
       "    </tr>\n",
       "    <tr>\n",
       "      <th>4</th>\n",
       "      <td>1124667085</td>\n",
       "      <td>D2iesirae</td>\n",
       "      <td>None</td>\n",
       "      <td>False</td>\n",
       "      <td>UserProfilePhoto(photo_id=5404773398200043722,...</td>\n",
       "    </tr>\n",
       "    <tr>\n",
       "      <th>...</th>\n",
       "      <td>...</td>\n",
       "      <td>...</td>\n",
       "      <td>...</td>\n",
       "      <td>...</td>\n",
       "      <td>...</td>\n",
       "    </tr>\n",
       "    <tr>\n",
       "      <th>1256</th>\n",
       "      <td>512189534</td>\n",
       "      <td>Диана</td>\n",
       "      <td>None</td>\n",
       "      <td>False</td>\n",
       "      <td>None</td>\n",
       "    </tr>\n",
       "    <tr>\n",
       "      <th>1257</th>\n",
       "      <td>823117150</td>\n",
       "      <td>Сыч</td>\n",
       "      <td>None</td>\n",
       "      <td>False</td>\n",
       "      <td>UserProfilePhoto(photo_id=3535261240482965435,...</td>\n",
       "    </tr>\n",
       "    <tr>\n",
       "      <th>1258</th>\n",
       "      <td>227811484</td>\n",
       "      <td>Элина</td>\n",
       "      <td>None</td>\n",
       "      <td>False</td>\n",
       "      <td>None</td>\n",
       "    </tr>\n",
       "    <tr>\n",
       "      <th>1259</th>\n",
       "      <td>844678071</td>\n",
       "      <td>Олеся</td>\n",
       "      <td>None</td>\n",
       "      <td>False</td>\n",
       "      <td>UserProfilePhoto(photo_id=3627864691049605039,...</td>\n",
       "    </tr>\n",
       "    <tr>\n",
       "      <th>1260</th>\n",
       "      <td>535183452</td>\n",
       "      <td>арина</td>\n",
       "      <td>None</td>\n",
       "      <td>False</td>\n",
       "      <td>UserProfilePhoto(photo_id=2298595424156624827,...</td>\n",
       "    </tr>\n",
       "  </tbody>\n",
       "</table>\n",
       "<p>1261 rows × 5 columns</p>\n",
       "</div>"
      ],
      "text/plain": [
       "              id       name        phone  premium  \\\n",
       "0      688528781   Катерина  79252239400    False   \n",
       "1     1642150577   Сантьяго         None    False   \n",
       "2     6210010999        马里奥         None    False   \n",
       "3     1307295264   Владимир         None     True   \n",
       "4     1124667085  D2iesirae         None    False   \n",
       "...          ...        ...          ...      ...   \n",
       "1256   512189534      Диана         None    False   \n",
       "1257   823117150        Сыч         None    False   \n",
       "1258   227811484      Элина         None    False   \n",
       "1259   844678071      Олеся         None    False   \n",
       "1260   535183452      арина         None    False   \n",
       "\n",
       "                                                  photo  \n",
       "0     UserProfilePhoto(photo_id=2957208597205985236,...  \n",
       "1     UserProfilePhoto(photo_id=5449852357031614386,...  \n",
       "2     UserProfilePhoto(photo_id=5201667384069444542,...  \n",
       "3     UserProfilePhoto(photo_id=5204164018493838337,...  \n",
       "4     UserProfilePhoto(photo_id=5404773398200043722,...  \n",
       "...                                                 ...  \n",
       "1256                                               None  \n",
       "1257  UserProfilePhoto(photo_id=3535261240482965435,...  \n",
       "1258                                               None  \n",
       "1259  UserProfilePhoto(photo_id=3627864691049605039,...  \n",
       "1260  UserProfilePhoto(photo_id=2298595424156624827,...  \n",
       "\n",
       "[1261 rows x 5 columns]"
      ]
     },
     "execution_count": 47,
     "metadata": {},
     "output_type": "execute_result"
    }
   ],
   "source": [
    "users_df"
   ]
  },
  {
   "cell_type": "markdown",
   "id": "f5db3a8a-a14d-4744-9f3e-c4ce30c97a25",
   "metadata": {},
   "source": [
    "<h4>Общее количество пользователей</h4>"
   ]
  },
  {
   "cell_type": "code",
   "execution_count": 67,
   "id": "eab704e3-7cd9-469c-8e90-64170b4b4e30",
   "metadata": {},
   "outputs": [
    {
     "data": {
      "text/plain": [
       "1261"
      ]
     },
     "execution_count": 67,
     "metadata": {},
     "output_type": "execute_result"
    }
   ],
   "source": [
    "len(users_df)"
   ]
  },
  {
   "cell_type": "markdown",
   "id": "df30b8f4-ac22-412a-a5b3-4a9a81782a7b",
   "metadata": {},
   "source": [
    "<h4>Количество пользователей с открытыми номерами телефонов</h4>"
   ]
  },
  {
   "cell_type": "code",
   "execution_count": 78,
   "id": "a0a89bb2-6fc8-47dc-b35a-fd2d99920432",
   "metadata": {},
   "outputs": [
    {
     "data": {
      "text/plain": [
       "(34, 5)"
      ]
     },
     "execution_count": 78,
     "metadata": {},
     "output_type": "execute_result"
    }
   ],
   "source": [
    "users_df[users_df['phone'].notnull()].shape"
   ]
  },
  {
   "cell_type": "markdown",
   "id": "e18d553d-fece-40d5-85af-8304dd27a5ef",
   "metadata": {},
   "source": [
    "<h4>Количество пользователей с Telegram Premium</h4>"
   ]
  },
  {
   "cell_type": "code",
   "execution_count": 76,
   "id": "4afcfe50-3e74-44a4-9c77-d63783a88229",
   "metadata": {},
   "outputs": [
    {
     "data": {
      "text/plain": [
       "(146, 5)"
      ]
     },
     "execution_count": 76,
     "metadata": {},
     "output_type": "execute_result"
    }
   ],
   "source": [
    "users_df[users_df['premium']==True].shape"
   ]
  },
  {
   "cell_type": "markdown",
   "id": "18da9af4-50f4-4e46-abcb-f559dafa4dd0",
   "metadata": {},
   "source": [
    "<h4>Статистика имен пользователей в группе</h4>"
   ]
  },
  {
   "cell_type": "code",
   "execution_count": 70,
   "id": "53a3d729-455e-43e9-b90c-b69e010b82e2",
   "metadata": {},
   "outputs": [
    {
     "data": {
      "text/plain": [
       "name\n",
       "Анастасия     14\n",
       "Дарья         13\n",
       "Мария          8\n",
       "Александра     6\n",
       "Валерия        6\n",
       "Маша           6\n",
       ".              6\n",
       "Даша           6\n",
       "Александр      5\n",
       "Екатерина      5\n",
       "Name: count, dtype: int64"
      ]
     },
     "execution_count": 70,
     "metadata": {},
     "output_type": "execute_result"
    }
   ],
   "source": [
    "names = users_df['name'].value_counts()[:10]\n",
    "names"
   ]
  },
  {
   "cell_type": "code",
   "execution_count": 71,
   "id": "55ced9e2-ee28-42ac-b463-db936ede9d5b",
   "metadata": {},
   "outputs": [
    {
     "data": {
      "image/png": "[encoded data removed]",
      "text/plain": [
       "<Figure size 1000x600 with 1 Axes>"
      ]
     },
     "metadata": {},
     "output_type": "display_data"
    }
   ],
   "source": [
    "from matplotlib import pyplot as plt\n",
    "plt.figure(figsize=(10, 6))\n",
    "names.plot(kind='bar')\n",
    "plt.title('Самые популярные имена в группе')\n",
    "plt.xlabel('Имена')\n",
    "plt.ylabel('Количество')\n",
    "plt.xticks(rotation=45)\n",
    "None"
   ]
  },
  {
   "cell_type": "markdown",
   "id": "e9839d03-1180-4c8d-8560-3596e2bd7cc4",
   "metadata": {},
   "source": [
    "<h4>Анализ профессий пользователей</h4>"
   ]
  },
  {
   "cell_type": "code",
   "execution_count": null,
   "id": "a6b6c16f-1032-482a-8914-c73c25ddad3b",
   "metadata": {},
   "outputs": [],
   "source": [
    "about_df = []\n",
    "\n",
    "for user in users[:200]:\n",
    "  full_user = await client(GetFullUserRequest(user.id))\n",
    "  about_df.append({'about': full_user.full_user.about})\n",
    "\n",
    "about_df = pd.DataFrame(about_df)\n",
    "about_df.head()"
   ]
  },
  {
   "cell_type": "code",
   "execution_count": null,
   "id": "06f881db-9cc3-44b5-8ff4-9c423066e8ba",
   "metadata": {},
   "outputs": [],
   "source": [
    "len(about_df)"
   ]
  },
  {
   "cell_type": "code",
   "execution_count": 87,
   "id": "c1a085b8-bec4-40d2-a5d6-031e3ff791d7",
   "metadata": {},
   "outputs": [
    {
     "data": {
      "text/plain": [
       "72"
      ]
     },
     "execution_count": 87,
     "metadata": {},
     "output_type": "execute_result"
    }
   ],
   "source": [
    "len(about_df[about_df['about'].notna()])"
   ]
  },
  {
   "cell_type": "code",
   "execution_count": null,
   "id": "15622042-46e7-4224-9820-e022b484485d",
   "metadata": {},
   "outputs": [],
   "source": [
    "%pip install nltk"
   ]
  },
  {
   "cell_type": "code",
   "execution_count": null,
   "id": "b9d76497-b205-46a2-8941-e4f8bda6337a",
   "metadata": {},
   "outputs": [],
   "source": [
    "%pip install -U scikit-learn scipy matplotlib"
   ]
  },
  {
   "cell_type": "code",
   "execution_count": 92,
   "id": "0d3e8922-1258-4e5e-91a6-22aa1b7b065e",
   "metadata": {},
   "outputs": [
    {
     "name": "stderr",
     "output_type": "stream",
     "text": [
      "[nltk_data] Downloading package stopwords to\n",
      "[nltk_data]     C:\\Users\\mgory\\AppData\\Roaming\\nltk_data...\n",
      "[nltk_data]   Unzipping corpora\\stopwords.zip.\n"
     ]
    },
    {
     "data": {
      "text/plain": [
       "['и', 'в', 'во', 'не', 'что', 'он', 'на', 'я', 'с', 'со']"
      ]
     },
     "execution_count": 92,
     "metadata": {},
     "output_type": "execute_result"
    }
   ],
   "source": [
    "from sklearn.feature_extraction.text import CountVectorizer\n",
    "from sklearn.decomposition import LatentDirichletAllocation\n",
    "import re\n",
    "import nltk\n",
    "\n",
    "nltk.download('stopwords')\n",
    "from nltk.corpus import stopwords\n",
    "\n",
    "stopwords_nltk = stopwords.words(['russian', 'english']) if 'russian' or 'english' in stopwords.fileids() else None\n",
    "stopwords_nltk[:10]"
   ]
  },
  {
   "cell_type": "code",
   "execution_count": 94,
   "id": "4eb490a2-0690-4b0b-83db-53e96b3ad9d5",
   "metadata": {},
   "outputs": [
    {
     "data": {
      "text/plain": [
       "{'Topic 0': ['жизни',\n",
       "  'сколько',\n",
       "  'https',\n",
       "  'твоих',\n",
       "  'неважно',\n",
       "  'дней',\n",
       "  'твоей',\n",
       "  'важно',\n",
       "  'днях',\n",
       "  'выпрашивать'],\n",
       " 'Topic 1': ['https',\n",
       "  'wwwhelpers',\n",
       "  'вопрос',\n",
       "  'подарить',\n",
       "  'переходи',\n",
       "  'навсегда',\n",
       "  'который',\n",
       "  'решит',\n",
       "  'текстов',\n",
       "  'услуг'],\n",
       " 'Topic 2': ['inst',\n",
       "  'rocket_ph',\n",
       "  'москва',\n",
       "  'фотограф',\n",
       "  'rocket',\n",
       "  'tg',\n",
       "  'ph',\n",
       "  'en',\n",
       "  'los',\n",
       "  'creen'],\n",
       " 'Topic 3': ['пусть',\n",
       "  'analyst',\n",
       "  'идут',\n",
       "  'умру',\n",
       "  'тело',\n",
       "  'снова',\n",
       "  'даю',\n",
       "  'слово',\n",
       "  'следу',\n",
       "  'скоро'],\n",
       " 'Topic 4': ['канал',\n",
       "  'apple',\n",
       "  'интересно',\n",
       "  'https',\n",
       "  'моё',\n",
       "  'freelance',\n",
       "  'war',\n",
       "  'digital',\n",
       "  'edtech',\n",
       "  'photo']}"
      ]
     },
     "execution_count": 94,
     "metadata": {},
     "output_type": "execute_result"
    }
   ],
   "source": [
    "about_text_cleaned = about_df['about'].dropna().apply(lambda x: re.sub(r'\\W+', ' ', x.lower())).tolist()\n",
    "\n",
    "vectorizer = CountVectorizer(stop_words=stopwords_nltk, max_features=5000)\n",
    "X = vectorizer.fit_transform(about_text_cleaned)\n",
    "\n",
    "lda = LatentDirichletAllocation(n_components=5, random_state=0)\n",
    "lda.fit(X)\n",
    "\n",
    "feature_names = vectorizer.get_feature_names_out()\n",
    "topics = {}\n",
    "for topic_idx, topic in enumerate(lda.components_):\n",
    "    top_features_ind = topic.argsort()[:-11:-1]\n",
    "    top_features = [feature_names[i] for i in top_features_ind]\n",
    "    topics[f\"Topic {topic_idx}\"] = top_features\n",
    "\n",
    "topics"
   ]
  },
  {
   "cell_type": "markdown",
   "id": "76c1c8ba-26af-4e12-b24c-f09dadcf62ed",
   "metadata": {},
   "source": [
    "<h4>Итог</h4>"
   ]
  },
  {
   "cell_type": "markdown",
   "id": "80b09530-4d12-419f-997f-8dd28f9509f0",
   "metadata": {},
   "source": [
    "1. Кто-то что-то просит (?)\n",
    "2. Предоставление услуг (менеджер)\n",
    "3. Фотографы\n",
    "4. Аналитики\n",
    "5. Фрилансеры, микро блогеры"
   ]
  },
  {
   "cell_type": "markdown",
   "id": "f8183c42-14ab-469c-88ae-8ee88d9442f1",
   "metadata": {},
   "source": [
    "<h4>Исследование активности пользователей</h4>"
   ]
  },
  {
   "cell_type": "code",
   "execution_count": 115,
   "id": "0a85dc3d-6bda-4a86-8826-89101fae4425",
   "metadata": {},
   "outputs": [],
   "source": [
    "msg = []\n",
    "msg_cnt = {}\n",
    "\n",
    "messages = await client.get_messages(group_link, 500)\n",
    "\n",
    "for message in messages:\n",
    "  sender = await message.get_sender()\n",
    "  try:\n",
    "    msg.append(message.message)\n",
    "    if message.sender_id in msg_cnt:\n",
    "      msg_cnt[message.sender_id]['count'] += 1\n",
    "    else:\n",
    "      msg_cnt[message.sender_id] = {'name': sender.username, 'count': 1}\n",
    "  except:\n",
    "    print(sender)"
   ]
  },
  {
   "cell_type": "code",
   "execution_count": 116,
   "id": "d5d24b74-f8d7-4646-ba8c-5e5d0a0b3ab5",
   "metadata": {},
   "outputs": [],
   "source": [
    "message_df = []\n",
    "for message in msg_d.values():\n",
    "  message_df.append(message)\n",
    "message_df = pd.DataFrame(data=message_df)"
   ]
  },
  {
   "cell_type": "markdown",
   "id": "60904e4a-06c7-4a7d-beef-e785033045f5",
   "metadata": {},
   "source": [
    "<h4>Самые активные пользователи</h4>"
   ]
  },
  {
   "cell_type": "code",
   "execution_count": 119,
   "id": "328aca64-26a9-4cda-9420-21e970d9b4ab",
   "metadata": {},
   "outputs": [
    {
     "data": {
      "text/html": [
       "<div>\n",
       "<style scoped>\n",
       "    .dataframe tbody tr th:only-of-type {\n",
       "        vertical-align: middle;\n",
       "    }\n",
       "\n",
       "    .dataframe tbody tr th {\n",
       "        vertical-align: top;\n",
       "    }\n",
       "\n",
       "    .dataframe thead th {\n",
       "        text-align: right;\n",
       "    }\n",
       "</style>\n",
       "<table border=\"1\" class=\"dataframe\">\n",
       "  <thead>\n",
       "    <tr style=\"text-align: right;\">\n",
       "      <th></th>\n",
       "      <th>name</th>\n",
       "      <th>count</th>\n",
       "    </tr>\n",
       "  </thead>\n",
       "  <tbody>\n",
       "    <tr>\n",
       "      <th>17</th>\n",
       "      <td>D2iesirae</td>\n",
       "      <td>40</td>\n",
       "    </tr>\n",
       "    <tr>\n",
       "      <th>151</th>\n",
       "      <td>TomokaMikage</td>\n",
       "      <td>22</td>\n",
       "    </tr>\n",
       "    <tr>\n",
       "      <th>67</th>\n",
       "      <td>shupakabrik</td>\n",
       "      <td>17</td>\n",
       "    </tr>\n",
       "    <tr>\n",
       "      <th>11</th>\n",
       "      <td>swanusername</td>\n",
       "      <td>14</td>\n",
       "    </tr>\n",
       "    <tr>\n",
       "      <th>153</th>\n",
       "      <td>tryingescape</td>\n",
       "      <td>12</td>\n",
       "    </tr>\n",
       "  </tbody>\n",
       "</table>\n",
       "</div>"
      ],
      "text/plain": [
       "             name  count\n",
       "17      D2iesirae     40\n",
       "151  TomokaMikage     22\n",
       "67    shupakabrik     17\n",
       "11   swanusername     14\n",
       "153  tryingescape     12"
      ]
     },
     "execution_count": 119,
     "metadata": {},
     "output_type": "execute_result"
    }
   ],
   "source": [
    "message_df.sort_values('count', ascending=False).head()"
   ]
  },
  {
   "cell_type": "markdown",
   "id": "317b0c8a-380a-4c50-bb15-fa3339f9e0f4",
   "metadata": {},
   "source": [
    "<h4>Анализ часто используемых слов или фраз в сообщениях</h4>"
   ]
  },
  {
   "cell_type": "code",
   "execution_count": 129,
   "id": "31a6edf5-687a-41df-aecb-3aff82a7d491",
   "metadata": {},
   "outputs": [
    {
     "data": {
      "text/html": [
       "<div>\n",
       "<style scoped>\n",
       "    .dataframe tbody tr th:only-of-type {\n",
       "        vertical-align: middle;\n",
       "    }\n",
       "\n",
       "    .dataframe tbody tr th {\n",
       "        vertical-align: top;\n",
       "    }\n",
       "\n",
       "    .dataframe thead th {\n",
       "        text-align: right;\n",
       "    }\n",
       "</style>\n",
       "<table border=\"1\" class=\"dataframe\">\n",
       "  <thead>\n",
       "    <tr style=\"text-align: right;\">\n",
       "      <th></th>\n",
       "      <th>message</th>\n",
       "    </tr>\n",
       "  </thead>\n",
       "  <tbody>\n",
       "    <tr>\n",
       "      <th>495</th>\n",
       "      <td>Отсутствие логики в реакции на точное исполнен...</td>\n",
       "    </tr>\n",
       "    <tr>\n",
       "      <th>496</th>\n",
       "      <td>Когда попросила своего парня купить лекарства ...</td>\n",
       "    </tr>\n",
       "    <tr>\n",
       "      <th>497</th>\n",
       "      <td>Поэтому я захожу в инст и ютуб раз в 3 дня и с...</td>\n",
       "    </tr>\n",
       "    <tr>\n",
       "      <th>498</th>\n",
       "      <td>А в чем проблема пойти и заработать себе? (</td>\n",
       "    </tr>\n",
       "    <tr>\n",
       "      <th>499</th>\n",
       "      <td>Она подумала, что он жмот, он подумал, что она...</td>\n",
       "    </tr>\n",
       "  </tbody>\n",
       "</table>\n",
       "</div>"
      ],
      "text/plain": [
       "                                               message\n",
       "495  Отсутствие логики в реакции на точное исполнен...\n",
       "496  Когда попросила своего парня купить лекарства ...\n",
       "497  Поэтому я захожу в инст и ютуб раз в 3 дня и с...\n",
       "498        А в чем проблема пойти и заработать себе? (\n",
       "499  Она подумала, что он жмот, он подумал, что она..."
      ]
     },
     "execution_count": 129,
     "metadata": {},
     "output_type": "execute_result"
    }
   ],
   "source": [
    "message_text_df = pd.DataFrame(data=message_list, columns=['message'])\n",
    "message_text_df.tail()"
   ]
  },
  {
   "cell_type": "code",
   "execution_count": 132,
   "id": "5e46c391-cde6-4e6a-86bc-50592cf50596",
   "metadata": {},
   "outputs": [
    {
     "data": {
      "text/plain": [
       "{'Topic 0': ['это',\n",
       "  'кайф',\n",
       "  'люди',\n",
       "  'зз',\n",
       "  'вообще',\n",
       "  'тебе',\n",
       "  'умеет',\n",
       "  'светофор',\n",
       "  'полностью',\n",
       "  'делать'],\n",
       " 'Topic 1': ['это',\n",
       "  'близнецы',\n",
       "  'просто',\n",
       "  'жизнь',\n",
       "  'почему',\n",
       "  'вообще',\n",
       "  'друзей',\n",
       "  'женщины',\n",
       "  'норм',\n",
       "  'сделали'],\n",
       " 'Topic 2': ['это',\n",
       "  'спасибо',\n",
       "  'тебе',\n",
       "  'такие',\n",
       "  'нужна',\n",
       "  'всем',\n",
       "  'могут',\n",
       "  'чижик',\n",
       "  'вообще',\n",
       "  'просто'],\n",
       " 'Topic 3': ['просто',\n",
       "  'нужно',\n",
       "  'жиза',\n",
       "  'это',\n",
       "  'реально',\n",
       "  'хочу',\n",
       "  'скинул',\n",
       "  'близнецов',\n",
       "  'дело',\n",
       "  'деньги'],\n",
       " 'Topic 4': ['это',\n",
       "  'че',\n",
       "  'такие',\n",
       "  'которые',\n",
       "  'говорю',\n",
       "  'знаю',\n",
       "  'люди',\n",
       "  'делают',\n",
       "  'девочки',\n",
       "  'тян']}"
      ]
     },
     "execution_count": 132,
     "metadata": {},
     "output_type": "execute_result"
    }
   ],
   "source": [
    "about_text_cleaned = message_text_df['message'].dropna().apply(lambda x: re.sub(r'\\W+', ' ', x.lower())).tolist()\n",
    "\n",
    "vectorizer = CountVectorizer(stop_words=stopwords_nltk, max_features=5000)\n",
    "X = vectorizer.fit_transform(about_text_cleaned)\n",
    "\n",
    "lda = LatentDirichletAllocation(n_components=5, random_state=0)\n",
    "lda.fit(X)\n",
    "\n",
    "feature_names = vectorizer.get_feature_names_out()\n",
    "topics = {}\n",
    "for topic_idx, topic in enumerate(lda.components_):\n",
    "    top_features_ind = topic.argsort()[:-11:-1]\n",
    "    top_features = [feature_names[i] for i in top_features_ind]\n",
    "    topics[f\"Topic {topic_idx}\"] = top_features\n",
    "\n",
    "topics"
   ]
  },
  {
   "cell_type": "markdown",
   "id": "b7608541-8725-4f3c-8d71-d6dde6641937",
   "metadata": {},
   "source": [
    "<h4>Итоги</h4>"
   ]
  },
  {
   "cell_type": "markdown",
   "id": "023c88e2-f2a2-4306-a233-ee043cd3fbc2",
   "metadata": {},
   "source": [
    "1. Знаки зодиака\n",
    "2. Помощь\n",
    "3. Девушки"
   ]
  },
  {
   "cell_type": "markdown",
   "id": "0910b1e1-6947-4f7e-a83e-b6abbd0620c4",
   "metadata": {},
   "source": [
    "<h4>Общие тенденции в аватарках</h4>"
   ]
  },
  {
   "cell_type": "markdown",
   "id": "4f798508-cd5a-455b-9f4a-c798ff802534",
   "metadata": {},
   "source": [
    "<h4>Количество \n",
    "пользователей с аватарками</h4>"
   ]
  },
  {
   "cell_type": "code",
   "execution_count": 137,
   "id": "31229cf8-f330-4d4f-895a-d53f5809d625",
   "metadata": {},
   "outputs": [
    {
     "data": {
      "text/plain": [
       "794"
      ]
     },
     "execution_count": 137,
     "metadata": {},
     "output_type": "execute_result"
    }
   ],
   "source": [
    "len(users_df[users_df['photo'].notnull()])"
   ]
  },
  {
   "cell_type": "markdown",
   "id": "092d2aca-5058-4073-8fe2-f80f24fa2fb4",
   "metadata": {},
   "source": [
    "<h4>Анализ изображений</h4>"
   ]
  },
  {
   "cell_type": "code",
   "execution_count": null,
   "id": "3736e488-f94e-4015-9716-8f106409371d",
   "metadata": {},
   "outputs": [],
   "source": [
    "%pip install imageai"
   ]
  },
  {
   "cell_type": "code",
   "execution_count": null,
   "id": "41d5e5ac-cc28-47fa-a83c-547a58bbfc5b",
   "metadata": {},
   "outputs": [],
   "source": [
    "%pip install torchvision"
   ]
  },
  {
   "cell_type": "code",
   "execution_count": null,
   "id": "9de60fba-9ab3-4d07-b930-013b2017d727",
   "metadata": {},
   "outputs": [],
   "source": [
    "%pip install tensorflow"
   ]
  },
  {
   "cell_type": "code",
   "execution_count": null,
   "id": "2be2fc2c-8634-4011-815a-80d9cf836022",
   "metadata": {},
   "outputs": [],
   "source": [
    "%pip install opencv-python"
   ]
  },
  {
   "cell_type": "code",
   "execution_count": null,
   "id": "e519a591-b972-4e3d-9022-0239b86abc34",
   "metadata": {},
   "outputs": [],
   "source": [
    "list_files = []\n",
    "for user in users[:200]:\n",
    "    try:\n",
    "        if user.photo:\n",
    "            list_files.append(user.id)\n",
    "            await client.download_profile_photo(user, f'./photo/{user.id}.jpg')\n",
    "        else:\n",
    "            print(f\"Error - no photo from {user.id}\")\n",
    "    except Exception as e:\n",
    "        print(e)"
   ]
  },
  {
   "cell_type": "code",
   "execution_count": null,
   "id": "aaddcca0-8d43-4cf4-8270-156aed4293c9",
   "metadata": {},
   "outputs": [],
   "source": [
    "from imageai.Detection import ObjectDetection\n",
    "import os\n",
    "import cv2\n",
    "\n",
    "\n",
    "execution_path = os.getcwd().replace(os.sep, '/')\n",
    "#C:\\Users\\mgory\\OneDrive\\Рабочий стол\\univer\\3_sem\\дискра\\5_анализ_тг\n",
    "print(execution_path)\n",
    "\n",
    "objects = []"
   ]
  },
  {
   "cell_type": "code",
   "execution_count": null,
   "id": "64d2eea6-af96-4227-973f-af92d4497e04",
   "metadata": {},
   "outputs": [],
   "source": [
    "model_path = os.path.join(execution_path , \"yolov3.pt\").replace(os.sep, '/')\n",
    "print(model_path)"
   ]
  },
  {
   "cell_type": "code",
   "execution_count": 300,
   "id": "b62a5e8c-9cd2-441a-b1ca-b498885b7598",
   "metadata": {},
   "outputs": [],
   "source": [
    "for files in list_files:\n",
    "    input_file = f'photo/{files}.jpg'\n",
    "    if os.path.exists(input_file):\n",
    "        output_file  = f'photo/analyse/{files}.jpg'\n",
    "        output_file2 = f'photo/analyse/{files}.jpg'\n",
    "        detector = ObjectDetection()\n",
    "        detector.setModelTypeAsYOLOv3()\n",
    "        detector.setModelPath(model_path)\n",
    "        detector.loadModel()\n",
    "        detections = detector.detectObjectsFromImage(input_image=input_file, \n",
    "                                                     output_image_path=output_file,\n",
    "                                                     minimum_percentage_probability=30)\n",
    "        if (len(detections) > 0):\n",
    "            for eachObject in detections:\n",
    "                objects.append(eachObject[\"name\"])\n",
    "            image = cv2.imread(output_file)\n"
   ]
  },
  {
   "cell_type": "code",
   "execution_count": 301,
   "id": "d7d06f24-aa58-49dc-a899-f39dd3f1a785",
   "metadata": {},
   "outputs": [
    {
     "data": {
      "text/plain": [
       "object\n",
       "person           117\n",
       "cell phone        10\n",
       "cat                9\n",
       "car                8\n",
       "chair              8\n",
       "sofa               5\n",
       "dog                4\n",
       "bench              4\n",
       "bottle             3\n",
       "bed                3\n",
       "refrigerator       2\n",
       "diningtable        2\n",
       "tie                2\n",
       "handbag            2\n",
       "boat               2\n",
       "backpack           2\n",
       "surfboard          1\n",
       "pottedplant        1\n",
       "train              1\n",
       "toothbrush         1\n",
       "umbrella           1\n",
       "frisbee            1\n",
       "traffic light      1\n",
       "laptop             1\n",
       "remote             1\n",
       "Name: count, dtype: int64"
      ]
     },
     "execution_count": 301,
     "metadata": {},
     "output_type": "execute_result"
    }
   ],
   "source": [
    "objects_df = pd.DataFrame(data=objects, columns=['object'])\n",
    "objects_df['object'].value_counts()"
   ]
  },
  {
   "cell_type": "markdown",
   "id": "a2fddf4a-72d4-42e0-82b3-fa8c8400d607",
   "metadata": {},
   "source": [
    "<h4>Итог: чаще всего встречаются на автараках люди, телефоны и коты</h4>"
   ]
  },
  {
   "cell_type": "markdown",
   "id": "6117b3aa-7e57-405a-86a0-84b7f34edf32",
   "metadata": {},
   "source": [
    "<h3>Часть 2: Анализ каналов в Telegram"
   ]
  },
  {
   "cell_type": "markdown",
   "id": "6e302603-6d6d-4dfd-9fb8-b678040c4aa4",
   "metadata": {},
   "source": [
    "ссылка на канал = 'https://t.me/unipage_study_abroad'"
   ]
  },
  {
   "cell_type": "code",
   "execution_count": null,
   "id": "7af91ab5-0df0-40fa-83fa-912631b96e7c",
   "metadata": {},
   "outputs": [],
   "source": [
    "channel_link = 'https://t.me/unipage_study_abroad'\n",
    "channel = await client.get_entity(channel_link)\n",
    "print(channel)"
   ]
  },
  {
   "cell_type": "markdown",
   "id": "e8b47bdb-df63-44ab-b7b7-82d2b61d2272",
   "metadata": {},
   "source": [
    "<h4>Cамый популярный пост (последние 100) по \n",
    "числу просмотров и лайков</h4>"
   ]
  },
  {
   "cell_type": "code",
   "execution_count": 309,
   "id": "b3e895db-c658-4cce-b86c-35f7577e8c35",
   "metadata": {},
   "outputs": [],
   "source": [
    "messages = await client.get_messages(channel, limit = 100)\n",
    "posts = []\n",
    "\n",
    "for message in messages:\n",
    "  try:\n",
    "    reaction = message.reactions\n",
    "    reactions_cnt = sum([reaction.count for reaction in reaction.results])\n",
    "  except:\n",
    "    reactions_cnt = 0\n",
    "  try:\n",
    "    replies_cnt = message.replies.replies\n",
    "  except AttributeError as err:\n",
    "    replies_cnt = 0\n",
    "  msg = {'text': message.text, 'views': message.views,\n",
    "         'replies': replies_cnt, 'reactions': reactions_cnt}\n",
    "  posts.append(msg)\n",
    "\n",
    "post_df = pd.DataFrame(posts)"
   ]
  },
  {
   "cell_type": "code",
   "execution_count": null,
   "id": "9e2255c6-cfc6-480e-a6d5-345845e64c5c",
   "metadata": {},
   "outputs": [],
   "source": [
    "post_df"
   ]
  },
  {
   "cell_type": "markdown",
   "id": "cfbfedb3-2666-44a2-95d7-4c978743b478",
   "metadata": {},
   "source": [
    "<h4>Пост с наибольшим количеством просмотров</h4>"
   ]
  },
  {
   "cell_type": "code",
   "execution_count": 317,
   "id": "dc216886-e08a-40c8-bdd6-9860394e8b95",
   "metadata": {},
   "outputs": [
    {
     "data": {
      "text/html": [
       "<div>\n",
       "<style scoped>\n",
       "    .dataframe tbody tr th:only-of-type {\n",
       "        vertical-align: middle;\n",
       "    }\n",
       "\n",
       "    .dataframe tbody tr th {\n",
       "        vertical-align: top;\n",
       "    }\n",
       "\n",
       "    .dataframe thead th {\n",
       "        text-align: right;\n",
       "    }\n",
       "</style>\n",
       "<table border=\"1\" class=\"dataframe\">\n",
       "  <thead>\n",
       "    <tr style=\"text-align: right;\">\n",
       "      <th></th>\n",
       "      <th>text</th>\n",
       "      <th>views</th>\n",
       "      <th>replies</th>\n",
       "      <th>reactions</th>\n",
       "    </tr>\n",
       "  </thead>\n",
       "  <tbody>\n",
       "    <tr>\n",
       "      <th>99</th>\n",
       "      <td>💡**Факты о Балканах, которые вы еще не слышали...</td>\n",
       "      <td>8432</td>\n",
       "      <td>8</td>\n",
       "      <td>22</td>\n",
       "    </tr>\n",
       "  </tbody>\n",
       "</table>\n",
       "</div>"
      ],
      "text/plain": [
       "                                                 text  views  replies  \\\n",
       "99  💡**Факты о Балканах, которые вы еще не слышали...   8432        8   \n",
       "\n",
       "    reactions  \n",
       "99         22  "
      ]
     },
     "execution_count": 317,
     "metadata": {},
     "output_type": "execute_result"
    }
   ],
   "source": [
    "post_df.sort_values(by=['views'], ascending=False).head(1)"
   ]
  },
  {
   "cell_type": "markdown",
   "id": "f9062454-aff3-4940-9154-2a0c11f13175",
   "metadata": {},
   "source": [
    "<h4>Пост с наибольшим количеством реакций"
   ]
  },
  {
   "cell_type": "code",
   "execution_count": 320,
   "id": "2bef28bc-d123-4a1b-af31-cad94119f7b9",
   "metadata": {},
   "outputs": [
    {
     "data": {
      "text/html": [
       "<div>\n",
       "<style scoped>\n",
       "    .dataframe tbody tr th:only-of-type {\n",
       "        vertical-align: middle;\n",
       "    }\n",
       "\n",
       "    .dataframe tbody tr th {\n",
       "        vertical-align: top;\n",
       "    }\n",
       "\n",
       "    .dataframe thead th {\n",
       "        text-align: right;\n",
       "    }\n",
       "</style>\n",
       "<table border=\"1\" class=\"dataframe\">\n",
       "  <thead>\n",
       "    <tr style=\"text-align: right;\">\n",
       "      <th></th>\n",
       "      <th>text</th>\n",
       "      <th>views</th>\n",
       "      <th>replies</th>\n",
       "      <th>reactions</th>\n",
       "    </tr>\n",
       "  </thead>\n",
       "  <tbody>\n",
       "    <tr>\n",
       "      <th>50</th>\n",
       "      <td>🇮🇹 **«Мое поступление было настоящими голодным...</td>\n",
       "      <td>5463</td>\n",
       "      <td>4</td>\n",
       "      <td>65</td>\n",
       "    </tr>\n",
       "  </tbody>\n",
       "</table>\n",
       "</div>"
      ],
      "text/plain": [
       "                                                 text  views  replies  \\\n",
       "50  🇮🇹 **«Мое поступление было настоящими голодным...   5463        4   \n",
       "\n",
       "    reactions  \n",
       "50         65  "
      ]
     },
     "execution_count": 320,
     "metadata": {},
     "output_type": "execute_result"
    }
   ],
   "source": [
    "post_df.sort_values(by=['reactions'], ascending=False).head(1)"
   ]
  },
  {
   "cell_type": "markdown",
   "id": "d7643bb4-2eaf-45e4-a5c9-d2471ccc761c",
   "metadata": {},
   "source": [
    "<h4>Пост с наибольшим количеством комментариев</h4>"
   ]
  },
  {
   "cell_type": "code",
   "execution_count": 321,
   "id": "4466de6d-3275-414a-9014-a7278d685145",
   "metadata": {},
   "outputs": [
    {
     "data": {
      "text/html": [
       "<div>\n",
       "<style scoped>\n",
       "    .dataframe tbody tr th:only-of-type {\n",
       "        vertical-align: middle;\n",
       "    }\n",
       "\n",
       "    .dataframe tbody tr th {\n",
       "        vertical-align: top;\n",
       "    }\n",
       "\n",
       "    .dataframe thead th {\n",
       "        text-align: right;\n",
       "    }\n",
       "</style>\n",
       "<table border=\"1\" class=\"dataframe\">\n",
       "  <thead>\n",
       "    <tr style=\"text-align: right;\">\n",
       "      <th></th>\n",
       "      <th>text</th>\n",
       "      <th>views</th>\n",
       "      <th>replies</th>\n",
       "      <th>reactions</th>\n",
       "    </tr>\n",
       "  </thead>\n",
       "  <tbody>\n",
       "    <tr>\n",
       "      <th>97</th>\n",
       "      <td>**Задайте вопрос ментору UniPage** \\n\\nСейчас ...</td>\n",
       "      <td>6767</td>\n",
       "      <td>39</td>\n",
       "      <td>28</td>\n",
       "    </tr>\n",
       "  </tbody>\n",
       "</table>\n",
       "</div>"
      ],
      "text/plain": [
       "                                                 text  views  replies  \\\n",
       "97  **Задайте вопрос ментору UniPage** \\n\\nСейчас ...   6767       39   \n",
       "\n",
       "    reactions  \n",
       "97         28  "
      ]
     },
     "execution_count": 321,
     "metadata": {},
     "output_type": "execute_result"
    }
   ],
   "source": [
    "post_df.sort_values(by=['replies'], ascending=False).head(1)"
   ]
  },
  {
   "cell_type": "markdown",
   "id": "1364196c-5d3a-4654-878f-490e806ba49d",
   "metadata": {},
   "source": [
    "<h4>Cамая популярная реакция</h4>"
   ]
  },
  {
   "cell_type": "code",
   "execution_count": 352,
   "id": "35ff0625-3dcf-4d12-be65-e89470467182",
   "metadata": {},
   "outputs": [
    {
     "data": {
      "text/plain": [
       "❤    2077.0\n",
       "dtype: float64"
      ]
     },
     "execution_count": 352,
     "metadata": {},
     "output_type": "execute_result"
    }
   ],
   "source": [
    "reactions_df = []\n",
    "no_react = 0\n",
    "\n",
    "for message in messages:\n",
    "  try:\n",
    "    reactions = message.reactions.results\n",
    "    reaction_dict = {}\n",
    "    for reaction in reactions:\n",
    "        reaction_dict[reaction.reaction.emoticon] = reaction.count\n",
    "        reactions_df.append(reaction_dict)\n",
    "  except AttributeError as err:\n",
    "    no_react += 1\n",
    "\n",
    "reactions_df = pd.DataFrame(data=reactions_df)\n",
    "reactions_df.head()\n",
    "\n",
    "reactions_df.sum().sort_values(ascending=False).head(1)"
   ]
  },
  {
   "cell_type": "markdown",
   "id": "b0dbce21-6b99-4803-996b-d948cd30e7db",
   "metadata": {},
   "source": [
    "<h4>Cамый активный комментатор на канале по последним 100 постам"
   ]
  },
  {
   "cell_type": "markdown",
   "id": "d862d901-77ba-4632-bb8d-1ff30a6f7dcb",
   "metadata": {},
   "source": [
    "<h4>Изучить тематику и ключевые слова в трех самых популярных постах</h4>"
   ]
  },
  {
   "cell_type": "code",
   "execution_count": 359,
   "id": "78979429-bd43-4587-ac58-915adae84443",
   "metadata": {},
   "outputs": [
    {
     "data": {
      "text/html": [
       "<div>\n",
       "<style scoped>\n",
       "    .dataframe tbody tr th:only-of-type {\n",
       "        vertical-align: middle;\n",
       "    }\n",
       "\n",
       "    .dataframe tbody tr th {\n",
       "        vertical-align: top;\n",
       "    }\n",
       "\n",
       "    .dataframe thead th {\n",
       "        text-align: right;\n",
       "    }\n",
       "</style>\n",
       "<table border=\"1\" class=\"dataframe\">\n",
       "  <thead>\n",
       "    <tr style=\"text-align: right;\">\n",
       "      <th></th>\n",
       "      <th>text</th>\n",
       "      <th>views</th>\n",
       "      <th>replies</th>\n",
       "      <th>reactions</th>\n",
       "    </tr>\n",
       "  </thead>\n",
       "  <tbody>\n",
       "    <tr>\n",
       "      <th>99</th>\n",
       "      <td>💡**Факты о Балканах, которые вы еще не слышали...</td>\n",
       "      <td>8432</td>\n",
       "      <td>8</td>\n",
       "      <td>22</td>\n",
       "    </tr>\n",
       "    <tr>\n",
       "      <th>98</th>\n",
       "      <td>**🌐Иностранных студентов становится все больше...</td>\n",
       "      <td>8042</td>\n",
       "      <td>3</td>\n",
       "      <td>41</td>\n",
       "    </tr>\n",
       "    <tr>\n",
       "      <th>96</th>\n",
       "      <td>**Где брать деньги — рассказываем про подработ...</td>\n",
       "      <td>7372</td>\n",
       "      <td>0</td>\n",
       "      <td>45</td>\n",
       "    </tr>\n",
       "  </tbody>\n",
       "</table>\n",
       "</div>"
      ],
      "text/plain": [
       "                                                 text  views  replies  \\\n",
       "99  💡**Факты о Балканах, которые вы еще не слышали...   8432        8   \n",
       "98  **🌐Иностранных студентов становится все больше...   8042        3   \n",
       "96  **Где брать деньги — рассказываем про подработ...   7372        0   \n",
       "\n",
       "    reactions  \n",
       "99         22  \n",
       "98         41  \n",
       "96         45  "
      ]
     },
     "execution_count": 359,
     "metadata": {},
     "output_type": "execute_result"
    }
   ],
   "source": [
    "popular_posts = post_df[post_df['text'] != \"\"].sort_values(by=['views', 'reactions'], ascending=False).head(3)\n",
    "popular_posts"
   ]
  },
  {
   "cell_type": "code",
   "execution_count": 360,
   "id": "4ff7d407-490c-44a9-8521-c37cdece1133",
   "metadata": {},
   "outputs": [
    {
     "data": {
      "text/plain": [
       "{'Topic 0': ['10',\n",
       "  '__',\n",
       "  'ph',\n",
       "  'telegra',\n",
       "  'balkanah',\n",
       "  'kotorye',\n",
       "  'vy',\n",
       "  'eshche',\n",
       "  'fakty',\n",
       "  'slyshali'],\n",
       " 'Topic 1': ['10',\n",
       "  'https',\n",
       "  'читать',\n",
       "  'рассказываем',\n",
       "  'статье',\n",
       "  'странах',\n",
       "  'telegra',\n",
       "  'ph',\n",
       "  'это',\n",
       "  '__'],\n",
       " 'Topic 2': ['рубежом',\n",
       "  'стране',\n",
       "  'учебы',\n",
       "  '10',\n",
       "  'za',\n",
       "  'podrabotku',\n",
       "  'pro',\n",
       "  'деньги',\n",
       "  'rubezhom',\n",
       "  'ucheby'],\n",
       " 'Topic 3': ['https',\n",
       "  'www',\n",
       "  'unipage',\n",
       "  'telegram',\n",
       "  'utm_medium',\n",
       "  'link',\n",
       "  'net',\n",
       "  'utm_source',\n",
       "  'ru',\n",
       "  'utm_campaign'],\n",
       " 'Topic 4': ['10',\n",
       "  'https',\n",
       "  'читать',\n",
       "  'рассказываем',\n",
       "  'статье',\n",
       "  'странах',\n",
       "  'telegra',\n",
       "  'ph',\n",
       "  'это',\n",
       "  '__']}"
      ]
     },
     "execution_count": 360,
     "metadata": {},
     "output_type": "execute_result"
    }
   ],
   "source": [
    "about_text_cleaned = popular_posts['text'].dropna().apply(lambda x: re.sub(r'\\W+', ' ', x.lower())).tolist()\n",
    "\n",
    "vectorizer = CountVectorizer(stop_words=stopwords_nltk, max_features=5000)\n",
    "X = vectorizer.fit_transform(about_text_cleaned)\n",
    "\n",
    "lda = LatentDirichletAllocation(n_components=5, random_state=0)\n",
    "lda.fit(X)\n",
    "\n",
    "feature_names = vectorizer.get_feature_names_out()\n",
    "topics = {}\n",
    "for topic_idx, topic in enumerate(lda.components_):\n",
    "    top_features_ind = topic.argsort()[:-11:-1]\n",
    "    top_features = [feature_names[i] for i in top_features_ind]\n",
    "    topics[f\"Topic {topic_idx}\"] = top_features\n",
    "\n",
    "topics"
   ]
  }
 ],
 "metadata": {
  "kernelspec": {
   "display_name": "Python 3 (ipykernel)",
   "language": "python",
   "name": "python3"
  },
  "language_info": {
   "codemirror_mode": {
    "name": "ipython",
    "version": 3
   },
   "file_extension": ".py",
   "mimetype": "text/x-python",
   "name": "python",
   "nbconvert_exporter": "python",
   "pygments_lexer": "ipython3",
   "version": "3.11.5"
  }
 },
 "nbformat": 4,
 "nbformat_minor": 5
}
